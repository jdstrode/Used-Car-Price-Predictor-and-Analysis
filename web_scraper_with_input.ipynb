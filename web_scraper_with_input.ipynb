{
 "cells": [
  {
   "cell_type": "markdown",
   "metadata": {
    "id": "KgF-Z7wG2RNq"
   },
   "source": [
    "# This scraper collects the data from craigslist and save it to a CSV file on your local machine\n",
    "\n",
    "\n",
    "---\n",
    "\n",
    "---"
   ]
  },
  {
   "cell_type": "markdown",
   "metadata": {
    "id": "W2okHplFBpe1"
   },
   "source": [
    "Improting libraries"
   ]
  },
  {
   "cell_type": "code",
   "execution_count": 1,
   "metadata": {
    "id": "Fb-aaOTq5JNF"
   },
   "outputs": [],
   "source": [
    "import requests\n",
    "from bs4 import BeautifulSoup\n",
    "import pandas as pd"
   ]
  },
  {
   "cell_type": "markdown",
   "metadata": {
    "id": "XtTLcJqCyMfX"
   },
   "source": [
    "Creating a list of cities of your choice and run them in the scraper\n"
   ]
  },
  {
   "cell_type": "code",
   "execution_count": null,
   "metadata": {
    "colab": {
     "base_uri": "https://localhost:8080/"
    },
    "id": "i86hRjAx_XnU",
    "outputId": "1457eacc-f0da-4e38-a455-988bb46752b6"
   },
   "outputs": [],
   "source": [
    "cities = list(map(str, input(\"Enter the name of the cities in all small letters: \").split())) \n",
    "print(\"List of cities: \", cities) "
   ]
  },
  {
   "cell_type": "markdown",
   "metadata": {
    "id": "mnN2JRX8B4_p"
   },
   "source": [
    "Adding the city name to the URL"
   ]
  },
  {
   "cell_type": "code",
   "execution_count": 3,
   "metadata": {
    "colab": {
     "base_uri": "https://localhost:8080/"
    },
    "id": "tcFWztTZmtQ9",
    "outputId": "e30a1f5f-fd1d-44f8-d128-6234e2e19d87"
   },
   "outputs": [
    {
     "name": "stdout",
     "output_type": "stream",
     "text": [
      "['https://chicago.craigslist.org/d/cars-trucks/search/cta', 'https://austin.craigslist.org/d/cars-trucks/search/cta', 'https://newyork.craigslist.org/d/cars-trucks/search/cta']\n"
     ]
    }
   ],
   "source": [
    "city_list=cities\n",
    "url_list=[]\n",
    "url_start = \"https://%s.craigslist.org/d/cars-trucks/search/cta\"\n",
    "for i in city_list:\n",
    "        url = url_start %i\n",
    "        url_list.append(url)\n",
    "print(url_list)"
   ]
  },
  {
   "cell_type": "markdown",
   "metadata": {
    "id": "-MnRaaDxyjEB"
   },
   "source": [
    "creating a scraper that runs through url_list and extracts all the neccesserary data into a dataframe named \"df\""
   ]
  },
  {
   "cell_type": "code",
   "execution_count": 4,
   "metadata": {
    "colab": {
     "base_uri": "https://localhost:8080/",
     "height": 1000
    },
    "id": "tY7mO2jOrCVU",
    "outputId": "a8514149-2274-460b-c642-9c5174f7ea08"
   },
   "outputs": [
    {
     "name": "stdout",
     "output_type": "stream",
     "text": [
      "error\n",
      "error\n",
      "error\n",
      "error\n",
      "error\n",
      "error\n",
      "error\n",
      "error\n",
      "error\n",
      "error\n",
      "error\n",
      "error\n",
      "error\n",
      "error\n",
      "error\n",
      "error\n",
      "error\n",
      "error\n",
      "error\n",
      "error\n",
      "error\n",
      "error\n",
      "error\n",
      "error\n",
      "error\n",
      "error\n",
      "error\n",
      "error\n",
      "error\n",
      "error\n",
      "error\n"
     ]
    },
    {
     "data": {
      "text/html": [
       "<div>\n",
       "<style scoped>\n",
       "    .dataframe tbody tr th:only-of-type {\n",
       "        vertical-align: middle;\n",
       "    }\n",
       "\n",
       "    .dataframe tbody tr th {\n",
       "        vertical-align: top;\n",
       "    }\n",
       "\n",
       "    .dataframe thead th {\n",
       "        text-align: right;\n",
       "    }\n",
       "</style>\n",
       "<table border=\"1\" class=\"dataframe\">\n",
       "  <thead>\n",
       "    <tr style=\"text-align: right;\">\n",
       "      <th></th>\n",
       "      <th>city</th>\n",
       "      <th>price</th>\n",
       "      <th>location</th>\n",
       "      <th>title</th>\n",
       "      <th>drive</th>\n",
       "      <th>fuel</th>\n",
       "      <th>odometer</th>\n",
       "      <th>title status</th>\n",
       "      <th>transmission</th>\n",
       "      <th>paint color</th>\n",
       "      <th>type</th>\n",
       "    </tr>\n",
       "  </thead>\n",
       "  <tbody>\n",
       "    <tr>\n",
       "      <th>0</th>\n",
       "      <td>https://chicago.craigslist.org/d/cars-trucks/s...</td>\n",
       "      <td>$3,450</td>\n",
       "      <td>(Chicago)</td>\n",
       "      <td>2001 GMC Yukon SLT</td>\n",
       "      <td>4wd</td>\n",
       "      <td>gas</td>\n",
       "      <td>112200</td>\n",
       "      <td>clean</td>\n",
       "      <td>automatic</td>\n",
       "      <td>NaN</td>\n",
       "      <td>NaN</td>\n",
       "    </tr>\n",
       "    <tr>\n",
       "      <th>1</th>\n",
       "      <td>https://chicago.craigslist.org/d/cars-trucks/s...</td>\n",
       "      <td>$11,500</td>\n",
       "      <td>(Northbrook)</td>\n",
       "      <td>2012 Toyota Prius V pkg III Vagon</td>\n",
       "      <td>fwd</td>\n",
       "      <td>hybrid</td>\n",
       "      <td>124000</td>\n",
       "      <td>clean</td>\n",
       "      <td>automatic</td>\n",
       "      <td>silver</td>\n",
       "      <td>hatchback</td>\n",
       "    </tr>\n",
       "    <tr>\n",
       "      <th>2</th>\n",
       "      <td>https://chicago.craigslist.org/d/cars-trucks/s...</td>\n",
       "      <td>$2,600</td>\n",
       "      <td>(Crystal Lake)</td>\n",
       "      <td>1998 Honda Accord</td>\n",
       "      <td>fwd</td>\n",
       "      <td>gas</td>\n",
       "      <td>168000</td>\n",
       "      <td>clean</td>\n",
       "      <td>automatic</td>\n",
       "      <td>brown</td>\n",
       "      <td>sedan</td>\n",
       "    </tr>\n",
       "    <tr>\n",
       "      <th>3</th>\n",
       "      <td>https://chicago.craigslist.org/d/cars-trucks/s...</td>\n",
       "      <td>$4,700</td>\n",
       "      <td>(Chicago)</td>\n",
       "      <td>2014 Nissan Versa Note Sv</td>\n",
       "      <td>fwd</td>\n",
       "      <td>gas</td>\n",
       "      <td>95892</td>\n",
       "      <td>clean</td>\n",
       "      <td>automatic</td>\n",
       "      <td>silver</td>\n",
       "      <td>hatchback</td>\n",
       "    </tr>\n",
       "    <tr>\n",
       "      <th>4</th>\n",
       "      <td>https://chicago.craigslist.org/d/cars-trucks/s...</td>\n",
       "      <td>$12,500</td>\n",
       "      <td>(Saint Charles)</td>\n",
       "      <td>Ford 150 XLT Super Crew Cab</td>\n",
       "      <td>rwd</td>\n",
       "      <td>gas</td>\n",
       "      <td>147000</td>\n",
       "      <td>clean</td>\n",
       "      <td>automatic</td>\n",
       "      <td>grey</td>\n",
       "      <td>pickup</td>\n",
       "    </tr>\n",
       "    <tr>\n",
       "      <th>...</th>\n",
       "      <td>...</td>\n",
       "      <td>...</td>\n",
       "      <td>...</td>\n",
       "      <td>...</td>\n",
       "      <td>...</td>\n",
       "      <td>...</td>\n",
       "      <td>...</td>\n",
       "      <td>...</td>\n",
       "      <td>...</td>\n",
       "      <td>...</td>\n",
       "      <td>...</td>\n",
       "    </tr>\n",
       "    <tr>\n",
       "      <th>324</th>\n",
       "      <td>https://newyork.craigslist.org/d/cars-trucks/s...</td>\n",
       "      <td>$17,590</td>\n",
       "      <td>(TOUCHLESS DELIVERY TO YOUR HOME)</td>\n",
       "      <td>2016 Scion iM Hatchback 4D hatchback Red - FIN...</td>\n",
       "      <td>fwd</td>\n",
       "      <td>gas</td>\n",
       "      <td>44501</td>\n",
       "      <td>clean</td>\n",
       "      <td>automatic</td>\n",
       "      <td>red</td>\n",
       "      <td>hatchback</td>\n",
       "    </tr>\n",
       "    <tr>\n",
       "      <th>325</th>\n",
       "      <td>https://newyork.craigslist.org/d/cars-trucks/s...</td>\n",
       "      <td>$48,000</td>\n",
       "      <td>(Brooklyn NY)</td>\n",
       "      <td>BMW M5</td>\n",
       "      <td>rwd</td>\n",
       "      <td>gas</td>\n",
       "      <td>47100</td>\n",
       "      <td>clean</td>\n",
       "      <td>automatic</td>\n",
       "      <td>white</td>\n",
       "      <td>sedan</td>\n",
       "    </tr>\n",
       "    <tr>\n",
       "      <th>326</th>\n",
       "      <td>https://newyork.craigslist.org/d/cars-trucks/s...</td>\n",
       "      <td>$7,000</td>\n",
       "      <td>(Norwalk)</td>\n",
       "      <td>1991 BMW 325 ci</td>\n",
       "      <td>rwd</td>\n",
       "      <td>gas</td>\n",
       "      <td>96000</td>\n",
       "      <td>clean</td>\n",
       "      <td>automatic</td>\n",
       "      <td>green</td>\n",
       "      <td>convertible</td>\n",
       "    </tr>\n",
       "    <tr>\n",
       "      <th>327</th>\n",
       "      <td>https://newyork.craigslist.org/d/cars-trucks/s...</td>\n",
       "      <td>$24,590</td>\n",
       "      <td>(TOUCHLESS DELIVERY TO YOUR HOME)</td>\n",
       "      <td>2017 Genesis G80 3.8 Sedan 4D sedan White - FI...</td>\n",
       "      <td>rwd</td>\n",
       "      <td>gas</td>\n",
       "      <td>64364</td>\n",
       "      <td>clean</td>\n",
       "      <td>automatic</td>\n",
       "      <td>white</td>\n",
       "      <td>sedan</td>\n",
       "    </tr>\n",
       "    <tr>\n",
       "      <th>328</th>\n",
       "      <td>https://newyork.craigslist.org/d/cars-trucks/s...</td>\n",
       "      <td>$2,500</td>\n",
       "      <td>(Bronx)</td>\n",
       "      <td>1999 Jeep Wrangler</td>\n",
       "      <td>NaN</td>\n",
       "      <td>gas</td>\n",
       "      <td>125000</td>\n",
       "      <td>clean</td>\n",
       "      <td>manual</td>\n",
       "      <td>green</td>\n",
       "      <td>NaN</td>\n",
       "    </tr>\n",
       "  </tbody>\n",
       "</table>\n",
       "<p>329 rows × 11 columns</p>\n",
       "</div>"
      ],
      "text/plain": [
       "                                                  city  ...          type\n",
       "0    https://chicago.craigslist.org/d/cars-trucks/s...  ...           NaN\n",
       "1    https://chicago.craigslist.org/d/cars-trucks/s...  ...     hatchback\n",
       "2    https://chicago.craigslist.org/d/cars-trucks/s...  ...         sedan\n",
       "3    https://chicago.craigslist.org/d/cars-trucks/s...  ...     hatchback\n",
       "4    https://chicago.craigslist.org/d/cars-trucks/s...  ...        pickup\n",
       "..                                                 ...  ...           ...\n",
       "324  https://newyork.craigslist.org/d/cars-trucks/s...  ...     hatchback\n",
       "325  https://newyork.craigslist.org/d/cars-trucks/s...  ...         sedan\n",
       "326  https://newyork.craigslist.org/d/cars-trucks/s...  ...   convertible\n",
       "327  https://newyork.craigslist.org/d/cars-trucks/s...  ...         sedan\n",
       "328  https://newyork.craigslist.org/d/cars-trucks/s...  ...           NaN\n",
       "\n",
       "[329 rows x 11 columns]"
      ]
     },
     "execution_count": 4,
     "metadata": {
      "tags": []
     },
     "output_type": "execute_result"
    }
   ],
   "source": [
    "# creating an empty list to store all the data\n",
    "all_data=[]\n",
    "#  loop  for the urls to extract the data for every city in the url_list\n",
    "for url in url_list:\n",
    "\n",
    "  # setting up the html and the beautiful soup\n",
    "  html = requests.get(url).text\n",
    "  soup = BeautifulSoup(html, \"lxml\")\n",
    "  a = soup.find_all(\"a\", class_=\"result-title\")\n",
    "  links = []\n",
    "#  loop to append the links\n",
    "  for i in a:\n",
    "      links.append(i.attrs['href'])\n",
    "  htmls = []\n",
    "  #  loop to append the text\n",
    "  for link in links:\n",
    "      htmls.append(requests.get(link).text)\n",
    " \n",
    "  # loop to extract all the data and save it to \"info\"\n",
    "  for html in htmls:\n",
    "      try:\n",
    "          soup = BeautifulSoup(html, \"lxml\")\n",
    "          spans = soup.find_all(\"span\")\n",
    "          info = {}\n",
    "          info[\"city\"]=url\n",
    "          info['price'] = soup.find(\"span\", class_=\"price\").get_text() \n",
    "          location = soup.find(\"small\").get_text()\n",
    "          if location:\n",
    "              info['location'] = location\n",
    "          for span in spans:\n",
    "              if 'id' in span.attrs: \n",
    "                  info['title'] = span.text\n",
    "              if 'drive: ' in span.contents:\n",
    "                  info[span.text.split(':')[0]] = span.text.split(\":\")[1]\n",
    "              if 'fuel: ' in span.contents:\n",
    "                  info[span.text.split(':')[0]] = span.text.split(\":\")[1]\n",
    "              if 'paint color: ' in span.contents:\n",
    "                  info[span.text.split(':')[0]] = span.text.split(\":\")[1]\n",
    "              if 'odometer: ' in span.contents:\n",
    "                  info[span.text.split(':')[0]] = span.text.split(\":\")[1]\n",
    "              if 'title status: ' in span.contents:\n",
    "                  info[span.text.split(':')[0]] = span.text.split(\":\")[1]\n",
    "              if 'transmission: ' in span.contents:\n",
    "                  info[span.text.split(':')[0]] = span.text.split(\":\")[1]\n",
    "              if 'type: ' in span.contents:\n",
    "                  info[span.text.split(':')[0]] = span.text.split(\":\")[1]\n",
    "            # saving all the data from \"info\" to all_data\n",
    "          all_data.append(info)\n",
    "      except:\n",
    "          print('error')\n",
    "# creating a dataframe \"df\"\n",
    "df = pd.DataFrame(all_data)\n",
    "df"
   ]
  },
  {
   "cell_type": "markdown",
   "metadata": {
    "id": "S4su3tm800SY"
   },
   "source": [
    "transforming the data from df in a csv file and saving it to the local machine\n"
   ]
  },
  {
   "cell_type": "code",
   "execution_count": 7,
   "metadata": {
    "colab": {
     "base_uri": "https://localhost:8080/",
     "height": 17
    },
    "id": "arYQGEmMwGMA",
    "outputId": "53e1498c-c701-4d12-dda3-5d7d0f036f16"
   },
   "outputs": [
    {
     "data": {
      "application/javascript": [
       "\n",
       "    async function download(id, filename, size) {\n",
       "      if (!google.colab.kernel.accessAllowed) {\n",
       "        return;\n",
       "      }\n",
       "      const div = document.createElement('div');\n",
       "      const label = document.createElement('label');\n",
       "      label.textContent = `Downloading \"${filename}\": `;\n",
       "      div.appendChild(label);\n",
       "      const progress = document.createElement('progress');\n",
       "      progress.max = size;\n",
       "      div.appendChild(progress);\n",
       "      document.body.appendChild(div);\n",
       "\n",
       "      const buffers = [];\n",
       "      let downloaded = 0;\n",
       "\n",
       "      const channel = await google.colab.kernel.comms.open(id);\n",
       "      // Send a message to notify the kernel that we're ready.\n",
       "      channel.send({})\n",
       "\n",
       "      for await (const message of channel.messages) {\n",
       "        // Send a message to notify the kernel that we're ready.\n",
       "        channel.send({})\n",
       "        if (message.buffers) {\n",
       "          for (const buffer of message.buffers) {\n",
       "            buffers.push(buffer);\n",
       "            downloaded += buffer.byteLength;\n",
       "            progress.value = downloaded;\n",
       "          }\n",
       "        }\n",
       "      }\n",
       "      const blob = new Blob(buffers, {type: 'application/binary'});\n",
       "      const a = document.createElement('a');\n",
       "      a.href = window.URL.createObjectURL(blob);\n",
       "      a.download = filename;\n",
       "      div.appendChild(a);\n",
       "      a.click();\n",
       "      div.remove();\n",
       "    }\n",
       "  "
      ],
      "text/plain": [
       "<IPython.core.display.Javascript object>"
      ]
     },
     "metadata": {
      "tags": []
     },
     "output_type": "display_data"
    },
    {
     "data": {
      "application/javascript": [
       "download(\"download_52022bed-fa1d-4518-9c7e-312bbb22f767\", \"scraped_data_new.csv\", 62446)"
      ],
      "text/plain": [
       "<IPython.core.display.Javascript object>"
      ]
     },
     "metadata": {
      "tags": []
     },
     "output_type": "display_data"
    }
   ],
   "source": [
    "\n",
    "from google.colab import files\n",
    "df.to_csv('scraped_data_new.csv') \n",
    "files.download('scraped_data_new.csv')"
   ]
  }
 ],
 "metadata": {
  "colab": {
   "collapsed_sections": [],
   "name": "scraper_ with_input.ipynb",
   "provenance": []
  },
  "kernelspec": {
   "display_name": "Python 3",
   "language": "python",
   "name": "python3"
  },
  "language_info": {
   "codemirror_mode": {
    "name": "ipython",
    "version": 3
   },
   "file_extension": ".py",
   "mimetype": "text/x-python",
   "name": "python",
   "nbconvert_exporter": "python",
   "pygments_lexer": "ipython3",
   "version": "3.8.3"
  }
 },
 "nbformat": 4,
 "nbformat_minor": 4
}
