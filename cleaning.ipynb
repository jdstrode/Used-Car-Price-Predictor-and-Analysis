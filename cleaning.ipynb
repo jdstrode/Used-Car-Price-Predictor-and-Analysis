{
 "cells": [
  {
   "cell_type": "code",
   "execution_count": 1,
   "metadata": {},
   "outputs": [],
   "source": [
    "%matplotlib inline\n",
    "from sklearn import tree\n",
    "import pandas as pd\n",
    "import os\n",
    "import numpy as np\n",
    "import seaborn as sns\n",
    "import matplotlib.pyplot as plt"
   ]
  },
  {
   "cell_type": "code",
   "execution_count": 2,
   "metadata": {},
   "outputs": [
    {
     "data": {
      "text/html": [
       "<div>\n",
       "<style scoped>\n",
       "    .dataframe tbody tr th:only-of-type {\n",
       "        vertical-align: middle;\n",
       "    }\n",
       "\n",
       "    .dataframe tbody tr th {\n",
       "        vertical-align: top;\n",
       "    }\n",
       "\n",
       "    .dataframe thead th {\n",
       "        text-align: right;\n",
       "    }\n",
       "</style>\n",
       "<table border=\"1\" class=\"dataframe\">\n",
       "  <thead>\n",
       "    <tr style=\"text-align: right;\">\n",
       "      <th></th>\n",
       "      <th>id</th>\n",
       "      <th>url</th>\n",
       "      <th>region</th>\n",
       "      <th>region_url</th>\n",
       "      <th>price</th>\n",
       "      <th>year</th>\n",
       "      <th>manufacturer</th>\n",
       "      <th>model</th>\n",
       "      <th>condition</th>\n",
       "      <th>cylinders</th>\n",
       "      <th>...</th>\n",
       "      <th>size</th>\n",
       "      <th>type</th>\n",
       "      <th>paint_color</th>\n",
       "      <th>image_url</th>\n",
       "      <th>description</th>\n",
       "      <th>county</th>\n",
       "      <th>state</th>\n",
       "      <th>lat</th>\n",
       "      <th>long</th>\n",
       "      <th>posting_date</th>\n",
       "    </tr>\n",
       "  </thead>\n",
       "  <tbody>\n",
       "    <tr>\n",
       "      <th>0</th>\n",
       "      <td>7222695916</td>\n",
       "      <td>https://prescott.craigslist.org/cto/d/prescott...</td>\n",
       "      <td>prescott</td>\n",
       "      <td>https://prescott.craigslist.org</td>\n",
       "      <td>6000</td>\n",
       "      <td>NaN</td>\n",
       "      <td>NaN</td>\n",
       "      <td>NaN</td>\n",
       "      <td>NaN</td>\n",
       "      <td>NaN</td>\n",
       "      <td>...</td>\n",
       "      <td>NaN</td>\n",
       "      <td>NaN</td>\n",
       "      <td>NaN</td>\n",
       "      <td>NaN</td>\n",
       "      <td>NaN</td>\n",
       "      <td>NaN</td>\n",
       "      <td>az</td>\n",
       "      <td>NaN</td>\n",
       "      <td>NaN</td>\n",
       "      <td>NaN</td>\n",
       "    </tr>\n",
       "    <tr>\n",
       "      <th>1</th>\n",
       "      <td>7218891961</td>\n",
       "      <td>https://fayar.craigslist.org/ctd/d/bentonville...</td>\n",
       "      <td>fayetteville</td>\n",
       "      <td>https://fayar.craigslist.org</td>\n",
       "      <td>11900</td>\n",
       "      <td>NaN</td>\n",
       "      <td>NaN</td>\n",
       "      <td>NaN</td>\n",
       "      <td>NaN</td>\n",
       "      <td>NaN</td>\n",
       "      <td>...</td>\n",
       "      <td>NaN</td>\n",
       "      <td>NaN</td>\n",
       "      <td>NaN</td>\n",
       "      <td>NaN</td>\n",
       "      <td>NaN</td>\n",
       "      <td>NaN</td>\n",
       "      <td>ar</td>\n",
       "      <td>NaN</td>\n",
       "      <td>NaN</td>\n",
       "      <td>NaN</td>\n",
       "    </tr>\n",
       "    <tr>\n",
       "      <th>2</th>\n",
       "      <td>7221797935</td>\n",
       "      <td>https://keys.craigslist.org/cto/d/summerland-k...</td>\n",
       "      <td>florida keys</td>\n",
       "      <td>https://keys.craigslist.org</td>\n",
       "      <td>21000</td>\n",
       "      <td>NaN</td>\n",
       "      <td>NaN</td>\n",
       "      <td>NaN</td>\n",
       "      <td>NaN</td>\n",
       "      <td>NaN</td>\n",
       "      <td>...</td>\n",
       "      <td>NaN</td>\n",
       "      <td>NaN</td>\n",
       "      <td>NaN</td>\n",
       "      <td>NaN</td>\n",
       "      <td>NaN</td>\n",
       "      <td>NaN</td>\n",
       "      <td>fl</td>\n",
       "      <td>NaN</td>\n",
       "      <td>NaN</td>\n",
       "      <td>NaN</td>\n",
       "    </tr>\n",
       "    <tr>\n",
       "      <th>3</th>\n",
       "      <td>7222270760</td>\n",
       "      <td>https://worcester.craigslist.org/cto/d/west-br...</td>\n",
       "      <td>worcester / central MA</td>\n",
       "      <td>https://worcester.craigslist.org</td>\n",
       "      <td>1500</td>\n",
       "      <td>NaN</td>\n",
       "      <td>NaN</td>\n",
       "      <td>NaN</td>\n",
       "      <td>NaN</td>\n",
       "      <td>NaN</td>\n",
       "      <td>...</td>\n",
       "      <td>NaN</td>\n",
       "      <td>NaN</td>\n",
       "      <td>NaN</td>\n",
       "      <td>NaN</td>\n",
       "      <td>NaN</td>\n",
       "      <td>NaN</td>\n",
       "      <td>ma</td>\n",
       "      <td>NaN</td>\n",
       "      <td>NaN</td>\n",
       "      <td>NaN</td>\n",
       "    </tr>\n",
       "    <tr>\n",
       "      <th>4</th>\n",
       "      <td>7210384030</td>\n",
       "      <td>https://greensboro.craigslist.org/cto/d/trinit...</td>\n",
       "      <td>greensboro</td>\n",
       "      <td>https://greensboro.craigslist.org</td>\n",
       "      <td>4900</td>\n",
       "      <td>NaN</td>\n",
       "      <td>NaN</td>\n",
       "      <td>NaN</td>\n",
       "      <td>NaN</td>\n",
       "      <td>NaN</td>\n",
       "      <td>...</td>\n",
       "      <td>NaN</td>\n",
       "      <td>NaN</td>\n",
       "      <td>NaN</td>\n",
       "      <td>NaN</td>\n",
       "      <td>NaN</td>\n",
       "      <td>NaN</td>\n",
       "      <td>nc</td>\n",
       "      <td>NaN</td>\n",
       "      <td>NaN</td>\n",
       "      <td>NaN</td>\n",
       "    </tr>\n",
       "  </tbody>\n",
       "</table>\n",
       "<p>5 rows × 26 columns</p>\n",
       "</div>"
      ],
      "text/plain": [
       "           id                                                url  \\\n",
       "0  7222695916  https://prescott.craigslist.org/cto/d/prescott...   \n",
       "1  7218891961  https://fayar.craigslist.org/ctd/d/bentonville...   \n",
       "2  7221797935  https://keys.craigslist.org/cto/d/summerland-k...   \n",
       "3  7222270760  https://worcester.craigslist.org/cto/d/west-br...   \n",
       "4  7210384030  https://greensboro.craigslist.org/cto/d/trinit...   \n",
       "\n",
       "                   region                         region_url  price  year  \\\n",
       "0                prescott    https://prescott.craigslist.org   6000   NaN   \n",
       "1            fayetteville       https://fayar.craigslist.org  11900   NaN   \n",
       "2            florida keys        https://keys.craigslist.org  21000   NaN   \n",
       "3  worcester / central MA   https://worcester.craigslist.org   1500   NaN   \n",
       "4              greensboro  https://greensboro.craigslist.org   4900   NaN   \n",
       "\n",
       "  manufacturer model condition cylinders  ... size  type paint_color  \\\n",
       "0          NaN   NaN       NaN       NaN  ...  NaN   NaN         NaN   \n",
       "1          NaN   NaN       NaN       NaN  ...  NaN   NaN         NaN   \n",
       "2          NaN   NaN       NaN       NaN  ...  NaN   NaN         NaN   \n",
       "3          NaN   NaN       NaN       NaN  ...  NaN   NaN         NaN   \n",
       "4          NaN   NaN       NaN       NaN  ...  NaN   NaN         NaN   \n",
       "\n",
       "  image_url description county state lat long posting_date  \n",
       "0       NaN         NaN    NaN    az NaN  NaN          NaN  \n",
       "1       NaN         NaN    NaN    ar NaN  NaN          NaN  \n",
       "2       NaN         NaN    NaN    fl NaN  NaN          NaN  \n",
       "3       NaN         NaN    NaN    ma NaN  NaN          NaN  \n",
       "4       NaN         NaN    NaN    nc NaN  NaN          NaN  \n",
       "\n",
       "[5 rows x 26 columns]"
      ]
     },
     "execution_count": 2,
     "metadata": {},
     "output_type": "execute_result"
    }
   ],
   "source": [
    "df = pd.read_csv(os.path.join(\"vehicles.csv\"))\n",
    "df.head()"
   ]
  },
  {
   "cell_type": "code",
   "execution_count": 4,
   "metadata": {},
   "outputs": [
    {
     "name": "stdout",
     "output_type": "stream",
     "text": [
      "<class 'pandas.core.frame.DataFrame'>\n",
      "RangeIndex: 426880 entries, 0 to 426879\n",
      "Data columns (total 26 columns):\n",
      " #   Column        Non-Null Count   Dtype  \n",
      "---  ------        --------------   -----  \n",
      " 0   id            426880 non-null  int64  \n",
      " 1   url           426880 non-null  object \n",
      " 2   region        426880 non-null  object \n",
      " 3   region_url    426880 non-null  object \n",
      " 4   price         426880 non-null  int64  \n",
      " 5   year          425675 non-null  float64\n",
      " 6   manufacturer  409234 non-null  object \n",
      " 7   model         421603 non-null  object \n",
      " 8   condition     252776 non-null  object \n",
      " 9   cylinders     249202 non-null  object \n",
      " 10  fuel          423867 non-null  object \n",
      " 11  odometer      422480 non-null  float64\n",
      " 12  title_status  418638 non-null  object \n",
      " 13  transmission  424324 non-null  object \n",
      " 14  VIN           265838 non-null  object \n",
      " 15  drive         296313 non-null  object \n",
      " 16  size          120519 non-null  object \n",
      " 17  type          334022 non-null  object \n",
      " 18  paint_color   296677 non-null  object \n",
      " 19  image_url     426812 non-null  object \n",
      " 20  description   426810 non-null  object \n",
      " 21  county        0 non-null       float64\n",
      " 22  state         426880 non-null  object \n",
      " 23  lat           420331 non-null  float64\n",
      " 24  long          420331 non-null  float64\n",
      " 25  posting_date  426812 non-null  object \n",
      "dtypes: float64(5), int64(2), object(19)\n",
      "memory usage: 84.7+ MB\n"
     ]
    }
   ],
   "source": [
    "df.info()"
   ]
  },
  {
   "cell_type": "code",
   "execution_count": 5,
   "metadata": {},
   "outputs": [
    {
     "data": {
      "text/html": [
       "<div>\n",
       "<style scoped>\n",
       "    .dataframe tbody tr th:only-of-type {\n",
       "        vertical-align: middle;\n",
       "    }\n",
       "\n",
       "    .dataframe tbody tr th {\n",
       "        vertical-align: top;\n",
       "    }\n",
       "\n",
       "    .dataframe thead th {\n",
       "        text-align: right;\n",
       "    }\n",
       "</style>\n",
       "<table border=\"1\" class=\"dataframe\">\n",
       "  <thead>\n",
       "    <tr style=\"text-align: right;\">\n",
       "      <th></th>\n",
       "      <th>id</th>\n",
       "      <th>url</th>\n",
       "      <th>region</th>\n",
       "      <th>region_url</th>\n",
       "      <th>price</th>\n",
       "      <th>year</th>\n",
       "      <th>manufacturer</th>\n",
       "      <th>model</th>\n",
       "      <th>condition</th>\n",
       "      <th>cylinders</th>\n",
       "      <th>...</th>\n",
       "      <th>size</th>\n",
       "      <th>type</th>\n",
       "      <th>paint_color</th>\n",
       "      <th>image_url</th>\n",
       "      <th>description</th>\n",
       "      <th>county</th>\n",
       "      <th>state</th>\n",
       "      <th>lat</th>\n",
       "      <th>long</th>\n",
       "      <th>posting_date</th>\n",
       "    </tr>\n",
       "  </thead>\n",
       "  <tbody>\n",
       "    <tr>\n",
       "      <th>5</th>\n",
       "      <td>7222379453</td>\n",
       "      <td>https://hudsonvalley.craigslist.org/cto/d/west...</td>\n",
       "      <td>hudson valley</td>\n",
       "      <td>https://hudsonvalley.craigslist.org</td>\n",
       "      <td>1600</td>\n",
       "      <td>NaN</td>\n",
       "      <td>NaN</td>\n",
       "      <td>NaN</td>\n",
       "      <td>NaN</td>\n",
       "      <td>NaN</td>\n",
       "      <td>...</td>\n",
       "      <td>NaN</td>\n",
       "      <td>NaN</td>\n",
       "      <td>NaN</td>\n",
       "      <td>NaN</td>\n",
       "      <td>NaN</td>\n",
       "      <td>NaN</td>\n",
       "      <td>ny</td>\n",
       "      <td>NaN</td>\n",
       "      <td>NaN</td>\n",
       "      <td>NaN</td>\n",
       "    </tr>\n",
       "    <tr>\n",
       "      <th>6</th>\n",
       "      <td>7221952215</td>\n",
       "      <td>https://hudsonvalley.craigslist.org/cto/d/west...</td>\n",
       "      <td>hudson valley</td>\n",
       "      <td>https://hudsonvalley.craigslist.org</td>\n",
       "      <td>1000</td>\n",
       "      <td>NaN</td>\n",
       "      <td>NaN</td>\n",
       "      <td>NaN</td>\n",
       "      <td>NaN</td>\n",
       "      <td>NaN</td>\n",
       "      <td>...</td>\n",
       "      <td>NaN</td>\n",
       "      <td>NaN</td>\n",
       "      <td>NaN</td>\n",
       "      <td>NaN</td>\n",
       "      <td>NaN</td>\n",
       "      <td>NaN</td>\n",
       "      <td>ny</td>\n",
       "      <td>NaN</td>\n",
       "      <td>NaN</td>\n",
       "      <td>NaN</td>\n",
       "    </tr>\n",
       "    <tr>\n",
       "      <th>7</th>\n",
       "      <td>7220195662</td>\n",
       "      <td>https://hudsonvalley.craigslist.org/cto/d/poug...</td>\n",
       "      <td>hudson valley</td>\n",
       "      <td>https://hudsonvalley.craigslist.org</td>\n",
       "      <td>15995</td>\n",
       "      <td>NaN</td>\n",
       "      <td>NaN</td>\n",
       "      <td>NaN</td>\n",
       "      <td>NaN</td>\n",
       "      <td>NaN</td>\n",
       "      <td>...</td>\n",
       "      <td>NaN</td>\n",
       "      <td>NaN</td>\n",
       "      <td>NaN</td>\n",
       "      <td>NaN</td>\n",
       "      <td>NaN</td>\n",
       "      <td>NaN</td>\n",
       "      <td>ny</td>\n",
       "      <td>NaN</td>\n",
       "      <td>NaN</td>\n",
       "      <td>NaN</td>\n",
       "    </tr>\n",
       "    <tr>\n",
       "      <th>10</th>\n",
       "      <td>7218893038</td>\n",
       "      <td>https://elpaso.craigslist.org/ctd/d/el-paso-20...</td>\n",
       "      <td>el paso</td>\n",
       "      <td>https://elpaso.craigslist.org</td>\n",
       "      <td>0</td>\n",
       "      <td>NaN</td>\n",
       "      <td>NaN</td>\n",
       "      <td>NaN</td>\n",
       "      <td>NaN</td>\n",
       "      <td>NaN</td>\n",
       "      <td>...</td>\n",
       "      <td>NaN</td>\n",
       "      <td>NaN</td>\n",
       "      <td>NaN</td>\n",
       "      <td>NaN</td>\n",
       "      <td>NaN</td>\n",
       "      <td>NaN</td>\n",
       "      <td>tx</td>\n",
       "      <td>NaN</td>\n",
       "      <td>NaN</td>\n",
       "      <td>NaN</td>\n",
       "    </tr>\n",
       "    <tr>\n",
       "      <th>11</th>\n",
       "      <td>7218325704</td>\n",
       "      <td>https://elpaso.craigslist.org/ctd/d/el-paso-20...</td>\n",
       "      <td>el paso</td>\n",
       "      <td>https://elpaso.craigslist.org</td>\n",
       "      <td>0</td>\n",
       "      <td>NaN</td>\n",
       "      <td>NaN</td>\n",
       "      <td>NaN</td>\n",
       "      <td>NaN</td>\n",
       "      <td>NaN</td>\n",
       "      <td>...</td>\n",
       "      <td>NaN</td>\n",
       "      <td>NaN</td>\n",
       "      <td>NaN</td>\n",
       "      <td>NaN</td>\n",
       "      <td>NaN</td>\n",
       "      <td>NaN</td>\n",
       "      <td>tx</td>\n",
       "      <td>NaN</td>\n",
       "      <td>NaN</td>\n",
       "      <td>NaN</td>\n",
       "    </tr>\n",
       "  </tbody>\n",
       "</table>\n",
       "<p>5 rows × 26 columns</p>\n",
       "</div>"
      ],
      "text/plain": [
       "            id                                                url  \\\n",
       "5   7222379453  https://hudsonvalley.craigslist.org/cto/d/west...   \n",
       "6   7221952215  https://hudsonvalley.craigslist.org/cto/d/west...   \n",
       "7   7220195662  https://hudsonvalley.craigslist.org/cto/d/poug...   \n",
       "10  7218893038  https://elpaso.craigslist.org/ctd/d/el-paso-20...   \n",
       "11  7218325704  https://elpaso.craigslist.org/ctd/d/el-paso-20...   \n",
       "\n",
       "           region                           region_url  price  year  \\\n",
       "5   hudson valley  https://hudsonvalley.craigslist.org   1600   NaN   \n",
       "6   hudson valley  https://hudsonvalley.craigslist.org   1000   NaN   \n",
       "7   hudson valley  https://hudsonvalley.craigslist.org  15995   NaN   \n",
       "10        el paso        https://elpaso.craigslist.org      0   NaN   \n",
       "11        el paso        https://elpaso.craigslist.org      0   NaN   \n",
       "\n",
       "   manufacturer model condition cylinders  ... size  type paint_color  \\\n",
       "5           NaN   NaN       NaN       NaN  ...  NaN   NaN         NaN   \n",
       "6           NaN   NaN       NaN       NaN  ...  NaN   NaN         NaN   \n",
       "7           NaN   NaN       NaN       NaN  ...  NaN   NaN         NaN   \n",
       "10          NaN   NaN       NaN       NaN  ...  NaN   NaN         NaN   \n",
       "11          NaN   NaN       NaN       NaN  ...  NaN   NaN         NaN   \n",
       "\n",
       "   image_url description county state lat long posting_date  \n",
       "5        NaN         NaN    NaN    ny NaN  NaN          NaN  \n",
       "6        NaN         NaN    NaN    ny NaN  NaN          NaN  \n",
       "7        NaN         NaN    NaN    ny NaN  NaN          NaN  \n",
       "10       NaN         NaN    NaN    tx NaN  NaN          NaN  \n",
       "11       NaN         NaN    NaN    tx NaN  NaN          NaN  \n",
       "\n",
       "[5 rows x 26 columns]"
      ]
     },
     "execution_count": 5,
     "metadata": {},
     "output_type": "execute_result"
    }
   ],
   "source": [
    "filtered_df = df.loc[(df['state'] == 'ny') | (df['state'] == 'il') | (df['state'] == 'ca') | (df['state'] == 'tx')]\n",
    "filtered_df.head()"
   ]
  },
  {
   "cell_type": "code",
   "execution_count": 6,
   "metadata": {},
   "outputs": [
    {
     "data": {
      "text/plain": [
       "ca    50614\n",
       "tx    22945\n",
       "ny    19386\n",
       "il    10387\n",
       "Name: state, dtype: int64"
      ]
     },
     "execution_count": 6,
     "metadata": {},
     "output_type": "execute_result"
    }
   ],
   "source": [
    "filtered_df.state.value_counts()"
   ]
  },
  {
   "cell_type": "code",
   "execution_count": 7,
   "metadata": {},
   "outputs": [
    {
     "name": "stdout",
     "output_type": "stream",
     "text": [
      "<class 'pandas.core.frame.DataFrame'>\n",
      "Int64Index: 103332 entries, 5 to 385575\n",
      "Data columns (total 26 columns):\n",
      " #   Column        Non-Null Count   Dtype  \n",
      "---  ------        --------------   -----  \n",
      " 0   id            103332 non-null  int64  \n",
      " 1   url           103332 non-null  object \n",
      " 2   region        103332 non-null  object \n",
      " 3   region_url    103332 non-null  object \n",
      " 4   price         103332 non-null  int64  \n",
      " 5   year          103146 non-null  float64\n",
      " 6   manufacturer  99041 non-null   object \n",
      " 7   model         102082 non-null  object \n",
      " 8   condition     67035 non-null   object \n",
      " 9   cylinders     59218 non-null   object \n",
      " 10  fuel          103025 non-null  object \n",
      " 11  odometer      101856 non-null  float64\n",
      " 12  title_status  101334 non-null  object \n",
      " 13  transmission  102836 non-null  object \n",
      " 14  VIN           62152 non-null   object \n",
      " 15  drive         68572 non-null   object \n",
      " 16  size          29295 non-null   object \n",
      " 17  type          81164 non-null   object \n",
      " 18  paint_color   71269 non-null   object \n",
      " 19  image_url     103312 non-null  object \n",
      " 20  description   103312 non-null  object \n",
      " 21  county        0 non-null       float64\n",
      " 22  state         103332 non-null  object \n",
      " 23  lat           102794 non-null  float64\n",
      " 24  long          102794 non-null  float64\n",
      " 25  posting_date  103312 non-null  object \n",
      "dtypes: float64(5), int64(2), object(19)\n",
      "memory usage: 21.3+ MB\n"
     ]
    }
   ],
   "source": [
    "filtered_df.info()"
   ]
  },
  {
   "cell_type": "code",
   "execution_count": 8,
   "metadata": {},
   "outputs": [],
   "source": [
    "filtered_df= filtered_df.drop(columns=['id', 'url', 'region_url', 'image_url', 'description', 'county', 'posting_date', 'VIN', 'title_status'], axis=1)"
   ]
  },
  {
   "cell_type": "code",
   "execution_count": 9,
   "metadata": {},
   "outputs": [
    {
     "name": "stdout",
     "output_type": "stream",
     "text": [
      "<class 'pandas.core.frame.DataFrame'>\n",
      "Int64Index: 103332 entries, 5 to 385575\n",
      "Data columns (total 17 columns):\n",
      " #   Column        Non-Null Count   Dtype  \n",
      "---  ------        --------------   -----  \n",
      " 0   region        103332 non-null  object \n",
      " 1   price         103332 non-null  int64  \n",
      " 2   year          103146 non-null  float64\n",
      " 3   manufacturer  99041 non-null   object \n",
      " 4   model         102082 non-null  object \n",
      " 5   condition     67035 non-null   object \n",
      " 6   cylinders     59218 non-null   object \n",
      " 7   fuel          103025 non-null  object \n",
      " 8   odometer      101856 non-null  float64\n",
      " 9   transmission  102836 non-null  object \n",
      " 10  drive         68572 non-null   object \n",
      " 11  size          29295 non-null   object \n",
      " 12  type          81164 non-null   object \n",
      " 13  paint_color   71269 non-null   object \n",
      " 14  state         103332 non-null  object \n",
      " 15  lat           102794 non-null  float64\n",
      " 16  long          102794 non-null  float64\n",
      "dtypes: float64(4), int64(1), object(12)\n",
      "memory usage: 14.2+ MB\n"
     ]
    }
   ],
   "source": [
    "filtered_df.info()"
   ]
  },
  {
   "cell_type": "code",
   "execution_count": 10,
   "metadata": {},
   "outputs": [
    {
     "data": {
      "text/plain": [
       "region              0\n",
       "price               0\n",
       "year              186\n",
       "manufacturer     4291\n",
       "model            1250\n",
       "condition       36297\n",
       "cylinders       44114\n",
       "fuel              307\n",
       "odometer         1476\n",
       "transmission      496\n",
       "drive           34760\n",
       "size            74037\n",
       "type            22168\n",
       "paint_color     32063\n",
       "state               0\n",
       "lat               538\n",
       "long              538\n",
       "dtype: int64"
      ]
     },
     "execution_count": 10,
     "metadata": {},
     "output_type": "execute_result"
    }
   ],
   "source": [
    "filtered_df.isnull().sum()"
   ]
  },
  {
   "cell_type": "code",
   "execution_count": 11,
   "metadata": {},
   "outputs": [
    {
     "data": {
      "text/plain": [
       "count    1.033320e+05\n",
       "mean     6.842665e+04\n",
       "std      1.056180e+07\n",
       "min      0.000000e+00\n",
       "25%      5.900000e+03\n",
       "50%      1.398500e+04\n",
       "75%      2.599500e+04\n",
       "max      3.009549e+09\n",
       "Name: price, dtype: float64"
      ]
     },
     "execution_count": 11,
     "metadata": {},
     "output_type": "execute_result"
    }
   ],
   "source": [
    "filtered_df[\"price\"].describe()"
   ]
  },
  {
   "cell_type": "code",
   "execution_count": 12,
   "metadata": {},
   "outputs": [
    {
     "data": {
      "text/plain": [
       "(91353, 17)"
      ]
     },
     "execution_count": 12,
     "metadata": {},
     "output_type": "execute_result"
    }
   ],
   "source": [
    "filtered_df=filtered_df[(filtered_df.price < 100000) & (filtered_df.price >= 750 )]\n",
    "filtered_df.shape"
   ]
  },
  {
   "cell_type": "code",
   "execution_count": 13,
   "metadata": {},
   "outputs": [
    {
     "data": {
      "text/plain": [
       "(85187, 17)"
      ]
     },
     "execution_count": 13,
     "metadata": {},
     "output_type": "execute_result"
    }
   ],
   "source": [
    "filtered_df=filtered_df[(filtered_df.odometer < 300000) & (filtered_df.odometer > 1000)]\n",
    "filtered_df=filtered_df[filtered_df.year>1985]\n",
    "filtered_df.shape"
   ]
  },
  {
   "cell_type": "code",
   "execution_count": 14,
   "metadata": {},
   "outputs": [
    {
     "data": {
      "text/plain": [
       "26532"
      ]
     },
     "execution_count": 14,
     "metadata": {},
     "output_type": "execute_result"
    }
   ],
   "source": [
    "filtered_df['condition'].isnull().sum()"
   ]
  },
  {
   "cell_type": "code",
   "execution_count": 15,
   "metadata": {},
   "outputs": [
    {
     "data": {
      "text/plain": [
       "good         28088\n",
       "excellent    24233\n",
       "like new      4882\n",
       "fair          1157\n",
       "new            182\n",
       "salvage        113\n",
       "Name: condition, dtype: int64"
      ]
     },
     "execution_count": 15,
     "metadata": {},
     "output_type": "execute_result"
    }
   ],
   "source": [
    "filtered_df.condition.value_counts()"
   ]
  },
  {
   "cell_type": "code",
   "execution_count": 16,
   "metadata": {},
   "outputs": [],
   "source": [
    "filtered_df.loc[filtered_df.year>=2019, 'condition'] = filtered_df.loc[filtered_df.year>=2019, 'condition'].fillna('new')\n",
    "filtered_df.loc[filtered_df.year>=2017, 'condition'] = filtered_df.loc[filtered_df.year>=2017, 'condition'].fillna('like new')"
   ]
  },
  {
   "cell_type": "code",
   "execution_count": 17,
   "metadata": {},
   "outputs": [
    {
     "data": {
      "text/plain": [
       "region              0\n",
       "price               0\n",
       "year                0\n",
       "manufacturer     2577\n",
       "model             680\n",
       "condition       18919\n",
       "cylinders       34347\n",
       "fuel              222\n",
       "odometer            0\n",
       "transmission      254\n",
       "drive           27765\n",
       "size            60978\n",
       "type            16987\n",
       "paint_color     24218\n",
       "state               0\n",
       "lat               281\n",
       "long              281\n",
       "dtype: int64"
      ]
     },
     "execution_count": 17,
     "metadata": {},
     "output_type": "execute_result"
    }
   ],
   "source": [
    "filtered_df.isnull().sum()"
   ]
  },
  {
   "cell_type": "code",
   "execution_count": 18,
   "metadata": {},
   "outputs": [],
   "source": [
    "excellent_odo_mean = filtered_df[filtered_df['condition'] == 'excellent']['odometer'].mean()\n",
    "good_odo_mean = filtered_df[filtered_df['condition'] == 'good']['odometer'].mean()\n",
    "like_new_odo_mean = filtered_df[filtered_df['condition'] == 'like new']['odometer'].mean()\n",
    "salvage_odo_mean = filtered_df[filtered_df['condition'] == 'salvage']['odometer'].mean()\n",
    "fair_odo_mean = filtered_df[filtered_df['condition'] == 'fair']['odometer'].mean()"
   ]
  },
  {
   "cell_type": "code",
   "execution_count": 19,
   "metadata": {},
   "outputs": [
    {
     "name": "stdout",
     "output_type": "stream",
     "text": [
      "Like new average odometer: 70046.26\n",
      "Excellent average odometer: 106976.33\n",
      "Good average odometer: 71368.73\n",
      "Fair average odometer: 165996.28\n",
      "Salvage average odometer: 137752.94\n"
     ]
    }
   ],
   "source": [
    "print('Like new average odometer:', round( like_new_odo_mean,2))\n",
    "print('Excellent average odometer:', round( excellent_odo_mean,2))\n",
    "print('Good average odometer:', round( good_odo_mean,2))\n",
    "print('Fair average odometer:', round( fair_odo_mean,2))\n",
    "print('Salvage average odometer:', round( salvage_odo_mean,2))"
   ]
  },
  {
   "cell_type": "code",
   "execution_count": 20,
   "metadata": {},
   "outputs": [],
   "source": [
    "filtered_df.loc[filtered_df['odometer'] <= like_new_odo_mean, 'condition'] = filtered_df.loc[filtered_df['odometer'] <= like_new_odo_mean, 'condition'].fillna('like new')\n",
    "\n",
    "filtered_df.loc[filtered_df['odometer'] >= fair_odo_mean, 'condition'] = filtered_df.loc[filtered_df['odometer'] >= fair_odo_mean, 'condition'].fillna('fair')\n",
    "\n",
    "filtered_df.loc[((filtered_df['odometer'] > like_new_odo_mean) & \n",
    "       (filtered_df['odometer'] <= excellent_odo_mean)), 'condition'] = filtered_df.loc[((filtered_df['odometer'] > like_new_odo_mean) & \n",
    "       (filtered_df['odometer'] <= excellent_odo_mean)), 'condition'].fillna('excellent')\n",
    "\n",
    "filtered_df.loc[((filtered_df['odometer'] > excellent_odo_mean) & \n",
    "       (filtered_df['odometer'] <= good_odo_mean)), 'condition'] = filtered_df.loc[((filtered_df['odometer'] > excellent_odo_mean) & \n",
    "       (filtered_df['odometer'] <= good_odo_mean)), 'condition'].fillna('good')\n",
    "\n",
    "filtered_df.loc[((filtered_df['odometer'] > good_odo_mean) & \n",
    "       (filtered_df['odometer'] <= fair_odo_mean)), 'condition'] = filtered_df.loc[((filtered_df['odometer'] > good_odo_mean) & \n",
    "       (filtered_df['odometer'] <= fair_odo_mean)), 'condition'].fillna('salvage')"
   ]
  },
  {
   "cell_type": "markdown",
   "metadata": {},
   "source": [
    "**This is where you would look at the correlations between the values below.  Before they are filled in with kind of dummy data"
   ]
  },
  {
   "cell_type": "code",
   "execution_count": 21,
   "metadata": {},
   "outputs": [],
   "source": [
    "filtered_df['cylinders'] = filtered_df['cylinders'].fillna(method='ffill')\n",
    "filtered_df['fuel'] = filtered_df['fuel'].fillna(method='ffill')\n",
    "filtered_df['size'] = filtered_df['size'].fillna(method='ffill')\n",
    "filtered_df['paint_color'] = filtered_df['paint_color'].fillna(method='ffill')\n",
    "filtered_df['drive'] = filtered_df['drive'].fillna(method='ffill')\n",
    "filtered_df['manufacturer'] = filtered_df['manufacturer'].fillna(method='ffill')\n",
    "filtered_df['type'] = filtered_df['type'].fillna(method='ffill')"
   ]
  },
  {
   "cell_type": "code",
   "execution_count": 22,
   "metadata": {},
   "outputs": [
    {
     "data": {
      "text/plain": [
       "region            0\n",
       "price             0\n",
       "year              0\n",
       "manufacturer      0\n",
       "model           680\n",
       "condition         0\n",
       "cylinders         1\n",
       "fuel              0\n",
       "odometer          0\n",
       "transmission    254\n",
       "drive             0\n",
       "size              2\n",
       "type              0\n",
       "paint_color       0\n",
       "state             0\n",
       "lat             281\n",
       "long            281\n",
       "dtype: int64"
      ]
     },
     "execution_count": 22,
     "metadata": {},
     "output_type": "execute_result"
    }
   ],
   "source": [
    "filtered_df.isnull().sum()"
   ]
  },
  {
   "cell_type": "code",
   "execution_count": 23,
   "metadata": {},
   "outputs": [
    {
     "data": {
      "text/plain": [
       "region          0\n",
       "price           0\n",
       "year            0\n",
       "manufacturer    0\n",
       "model           0\n",
       "condition       0\n",
       "cylinders       0\n",
       "fuel            0\n",
       "odometer        0\n",
       "transmission    0\n",
       "drive           0\n",
       "size            0\n",
       "type            0\n",
       "paint_color     0\n",
       "state           0\n",
       "lat             0\n",
       "long            0\n",
       "dtype: int64"
      ]
     },
     "execution_count": 23,
     "metadata": {},
     "output_type": "execute_result"
    }
   ],
   "source": [
    "new_df = filtered_df.dropna()\n",
    "new_df.isnull().sum()"
   ]
  },
  {
   "cell_type": "code",
   "execution_count": 24,
   "metadata": {},
   "outputs": [
    {
     "name": "stdout",
     "output_type": "stream",
     "text": [
      "<class 'pandas.core.frame.DataFrame'>\n",
      "Int64Index: 83977 entries, 21174 to 385575\n",
      "Data columns (total 17 columns):\n",
      " #   Column        Non-Null Count  Dtype  \n",
      "---  ------        --------------  -----  \n",
      " 0   region        83977 non-null  object \n",
      " 1   price         83977 non-null  int64  \n",
      " 2   year          83977 non-null  float64\n",
      " 3   manufacturer  83977 non-null  object \n",
      " 4   model         83977 non-null  object \n",
      " 5   condition     83977 non-null  object \n",
      " 6   cylinders     83977 non-null  object \n",
      " 7   fuel          83977 non-null  object \n",
      " 8   odometer      83977 non-null  float64\n",
      " 9   transmission  83977 non-null  object \n",
      " 10  drive         83977 non-null  object \n",
      " 11  size          83977 non-null  object \n",
      " 12  type          83977 non-null  object \n",
      " 13  paint_color   83977 non-null  object \n",
      " 14  state         83977 non-null  object \n",
      " 15  lat           83977 non-null  float64\n",
      " 16  long          83977 non-null  float64\n",
      "dtypes: float64(4), int64(1), object(12)\n",
      "memory usage: 11.5+ MB\n"
     ]
    }
   ],
   "source": [
    "new_df.info()"
   ]
  },
  {
   "cell_type": "code",
   "execution_count": 25,
   "metadata": {},
   "outputs": [
    {
     "data": {
      "text/html": [
       "<div>\n",
       "<style scoped>\n",
       "    .dataframe tbody tr th:only-of-type {\n",
       "        vertical-align: middle;\n",
       "    }\n",
       "\n",
       "    .dataframe tbody tr th {\n",
       "        vertical-align: top;\n",
       "    }\n",
       "\n",
       "    .dataframe thead th {\n",
       "        text-align: right;\n",
       "    }\n",
       "</style>\n",
       "<table border=\"1\" class=\"dataframe\">\n",
       "  <thead>\n",
       "    <tr style=\"text-align: right;\">\n",
       "      <th></th>\n",
       "      <th>region</th>\n",
       "      <th>price</th>\n",
       "      <th>year</th>\n",
       "      <th>manufacturer</th>\n",
       "      <th>model</th>\n",
       "      <th>condition</th>\n",
       "      <th>cylinders</th>\n",
       "      <th>fuel</th>\n",
       "      <th>odometer</th>\n",
       "      <th>transmission</th>\n",
       "      <th>drive</th>\n",
       "      <th>size</th>\n",
       "      <th>type</th>\n",
       "      <th>paint_color</th>\n",
       "      <th>state</th>\n",
       "      <th>lat</th>\n",
       "      <th>long</th>\n",
       "    </tr>\n",
       "  </thead>\n",
       "  <tbody>\n",
       "    <tr>\n",
       "      <th>21174</th>\n",
       "      <td>bakersfield</td>\n",
       "      <td>11975</td>\n",
       "      <td>2003.0</td>\n",
       "      <td>harley-davidson</td>\n",
       "      <td>davidson</td>\n",
       "      <td>excellent</td>\n",
       "      <td>8 cylinders</td>\n",
       "      <td>gas</td>\n",
       "      <td>207000.0</td>\n",
       "      <td>automatic</td>\n",
       "      <td>rwd</td>\n",
       "      <td>full-size</td>\n",
       "      <td>pickup</td>\n",
       "      <td>black</td>\n",
       "      <td>ca</td>\n",
       "      <td>34.070612</td>\n",
       "      <td>-117.383384</td>\n",
       "    </tr>\n",
       "    <tr>\n",
       "      <th>21176</th>\n",
       "      <td>bakersfield</td>\n",
       "      <td>21950</td>\n",
       "      <td>2003.0</td>\n",
       "      <td>chevrolet</td>\n",
       "      <td>silverado 3500</td>\n",
       "      <td>excellent</td>\n",
       "      <td>8 cylinders</td>\n",
       "      <td>diesel</td>\n",
       "      <td>202537.0</td>\n",
       "      <td>automatic</td>\n",
       "      <td>4wd</td>\n",
       "      <td>full-size</td>\n",
       "      <td>truck</td>\n",
       "      <td>grey</td>\n",
       "      <td>ca</td>\n",
       "      <td>33.794656</td>\n",
       "      <td>-117.992994</td>\n",
       "    </tr>\n",
       "    <tr>\n",
       "      <th>21178</th>\n",
       "      <td>bakersfield</td>\n",
       "      <td>27590</td>\n",
       "      <td>2018.0</td>\n",
       "      <td>acura</td>\n",
       "      <td>tlx 3.5 sedan 4d</td>\n",
       "      <td>good</td>\n",
       "      <td>6 cylinders</td>\n",
       "      <td>gas</td>\n",
       "      <td>20420.0</td>\n",
       "      <td>other</td>\n",
       "      <td>fwd</td>\n",
       "      <td>full-size</td>\n",
       "      <td>sedan</td>\n",
       "      <td>black</td>\n",
       "      <td>ca</td>\n",
       "      <td>35.380000</td>\n",
       "      <td>-119.020000</td>\n",
       "    </tr>\n",
       "    <tr>\n",
       "      <th>21179</th>\n",
       "      <td>bakersfield</td>\n",
       "      <td>21990</td>\n",
       "      <td>2018.0</td>\n",
       "      <td>volkswagen</td>\n",
       "      <td>tiguan 2.0t s sport</td>\n",
       "      <td>good</td>\n",
       "      <td>6 cylinders</td>\n",
       "      <td>gas</td>\n",
       "      <td>7233.0</td>\n",
       "      <td>other</td>\n",
       "      <td>fwd</td>\n",
       "      <td>full-size</td>\n",
       "      <td>other</td>\n",
       "      <td>green</td>\n",
       "      <td>ca</td>\n",
       "      <td>35.380000</td>\n",
       "      <td>-119.020000</td>\n",
       "    </tr>\n",
       "    <tr>\n",
       "      <th>21180</th>\n",
       "      <td>bakersfield</td>\n",
       "      <td>22590</td>\n",
       "      <td>2018.0</td>\n",
       "      <td>gmc</td>\n",
       "      <td>terrain sle sport utility 4d</td>\n",
       "      <td>good</td>\n",
       "      <td>6 cylinders</td>\n",
       "      <td>gas</td>\n",
       "      <td>33826.0</td>\n",
       "      <td>other</td>\n",
       "      <td>fwd</td>\n",
       "      <td>full-size</td>\n",
       "      <td>other</td>\n",
       "      <td>green</td>\n",
       "      <td>ca</td>\n",
       "      <td>35.380000</td>\n",
       "      <td>-119.020000</td>\n",
       "    </tr>\n",
       "  </tbody>\n",
       "</table>\n",
       "</div>"
      ],
      "text/plain": [
       "            region  price    year     manufacturer  \\\n",
       "21174  bakersfield  11975  2003.0  harley-davidson   \n",
       "21176  bakersfield  21950  2003.0        chevrolet   \n",
       "21178  bakersfield  27590  2018.0            acura   \n",
       "21179  bakersfield  21990  2018.0       volkswagen   \n",
       "21180  bakersfield  22590  2018.0              gmc   \n",
       "\n",
       "                              model  condition    cylinders    fuel  odometer  \\\n",
       "21174                      davidson  excellent  8 cylinders     gas  207000.0   \n",
       "21176                silverado 3500  excellent  8 cylinders  diesel  202537.0   \n",
       "21178              tlx 3.5 sedan 4d       good  6 cylinders     gas   20420.0   \n",
       "21179           tiguan 2.0t s sport       good  6 cylinders     gas    7233.0   \n",
       "21180  terrain sle sport utility 4d       good  6 cylinders     gas   33826.0   \n",
       "\n",
       "      transmission drive       size    type paint_color state        lat  \\\n",
       "21174    automatic   rwd  full-size  pickup       black    ca  34.070612   \n",
       "21176    automatic   4wd  full-size   truck        grey    ca  33.794656   \n",
       "21178        other   fwd  full-size   sedan       black    ca  35.380000   \n",
       "21179        other   fwd  full-size   other       green    ca  35.380000   \n",
       "21180        other   fwd  full-size   other       green    ca  35.380000   \n",
       "\n",
       "             long  \n",
       "21174 -117.383384  \n",
       "21176 -117.992994  \n",
       "21178 -119.020000  \n",
       "21179 -119.020000  \n",
       "21180 -119.020000  "
      ]
     },
     "execution_count": 25,
     "metadata": {},
     "output_type": "execute_result"
    }
   ],
   "source": [
    "new_df.head()"
   ]
  },
  {
   "cell_type": "code",
   "execution_count": 26,
   "metadata": {},
   "outputs": [],
   "source": [
    "new_df.to_csv('cars_cleaned_sample.csv', index=False)"
   ]
  },
  {
   "cell_type": "code",
   "execution_count": 27,
   "metadata": {},
   "outputs": [
    {
     "data": {
      "text/plain": [
       "ca    39848\n",
       "tx    19243\n",
       "ny    16374\n",
       "il     8512\n",
       "Name: state, dtype: int64"
      ]
     },
     "execution_count": 27,
     "metadata": {},
     "output_type": "execute_result"
    }
   ],
   "source": [
    "new_df.state.value_counts()"
   ]
  },
  {
   "cell_type": "code",
   "execution_count": 16,
   "metadata": {},
   "outputs": [],
   "source": []
  },
  {
   "cell_type": "code",
   "execution_count": null,
   "metadata": {},
   "outputs": [],
   "source": []
  },
  {
   "cell_type": "code",
   "execution_count": null,
   "metadata": {},
   "outputs": [],
   "source": []
  }
 ],
 "metadata": {
  "kernelspec": {
   "display_name": "Python 3",
   "language": "python",
   "name": "python3"
  },
  "language_info": {
   "codemirror_mode": {
    "name": "ipython",
    "version": 3
   },
   "file_extension": ".py",
   "mimetype": "text/x-python",
   "name": "python",
   "nbconvert_exporter": "python",
   "pygments_lexer": "ipython3",
   "version": "3.8.3"
  }
 },
 "nbformat": 4,
 "nbformat_minor": 4
}
